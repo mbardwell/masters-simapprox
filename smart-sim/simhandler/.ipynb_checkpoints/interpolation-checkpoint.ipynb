{
 "cells": [
  {
   "cell_type": "code",
   "execution_count": 11,
   "metadata": {},
   "outputs": [],
   "source": [
    "import numpy as np\n",
    "from scipy import interpolate\n",
    "import logging\n",
    "logger = logging.getLogger(name=\"pypsa\")\n",
    "logger.setLevel(\"WARNING\") # silence logger\n",
    "\n",
    "# my imports\n",
    "from n_dimensional_datasets import *\n",
    "from plotter import *\n",
    "from scoring import *\n",
    "\n",
    "# 3rd party\n",
    "import pypsa"
   ]
  },
  {
   "cell_type": "code",
   "execution_count": 12,
   "metadata": {},
   "outputs": [],
   "source": [
    "loads = stochastic_mesh(2, 0, 1, 10)"
   ]
  },
  {
   "cell_type": "code",
   "execution_count": 13,
   "metadata": {},
   "outputs": [],
   "source": [
    "network = pypsa.Network()\n",
    "\n",
    "network.set_snapshots(range(loads.shape[1]))\n",
    "\n",
    "#add three buses\n",
    "n_buses = 3\n",
    "\n",
    "\n",
    "network.add(\"Bus\",\"My bus 0\", v_nom=20.)\n",
    "network.add(\"Bus\",\"My bus 1\", v_nom=20.)\n",
    "network.add(\"Bus\",\"My bus 2\", v_nom=20.)\n",
    "    \n",
    "\n",
    "#add lines\n",
    "network.add(\"Line\", \"My line 01\", bus0=\"My bus 0\", bus1=\"My bus 1\", x=0.01, r=0.1, s_nom=1)\n",
    "network.add(\"Line\", \"My line 02\", bus0=\"My bus 0\", bus1=\"My bus 2\", x=0.01, r=0.1, s_nom=1)\n",
    "network.add(\"Line\", \"My line 12\", bus0=\"My bus 1\", bus1=\"My bus 2\", x=0.01, r=0.1, s_nom=1)\n",
    "\n",
    "\n",
    "#add a generator at bus 0\n",
    "network.add(\"Generator\",\"My gen 0\", bus=\"My bus 0\", p_nom=2, marginal_cost=1)\n",
    "network.add(\"Generator\",\"My gen 1\", bus=\"My bus 1\", p_nom=0.25, marginal_cost=1)\n",
    "\n",
    "\n",
    "#add loads\n",
    "network.add(\"Load\", \"My load 1\", bus=\"My bus 1\", p_set=loads[0])\n",
    "network.add(\"Load\", \"My load 2\", bus=\"My bus 2\", p_set=loads[1])"
   ]
  },
  {
   "cell_type": "code",
   "execution_count": 14,
   "metadata": {},
   "outputs": [
    {
     "data": {
      "text/plain": [
       "('ok', 'optimal')"
      ]
     },
     "execution_count": 14,
     "metadata": {},
     "output_type": "execute_result"
    }
   ],
   "source": [
    "#Do a Newton-Raphson power flow\n",
    "network.lopf()"
   ]
  },
  {
   "cell_type": "code",
   "execution_count": 38,
   "metadata": {},
   "outputs": [
    {
     "data": {
      "text/plain": [
       "[(array([0., 0., 0., 0., 0., 0., 0., 0., 0., 0.]),),\n",
       " (array([ 0.        , -0.00052319,  0.        , -0.00014803, -0.00017763,\n",
       "         -0.00107496, -0.00069697, -0.00064966, -0.00029391, -0.00119366]),),\n",
       " (array([ 0.00000000e+00, -7.29547597e-04, -3.29157456e-05, -1.25953908e-04,\n",
       "         -3.21045464e-04, -1.11348239e-03, -6.41142920e-04, -4.12290611e-04,\n",
       "         -5.29655130e-04, -1.31302828e-03]),)]"
      ]
     },
     "execution_count": 38,
     "metadata": {},
     "output_type": "execute_result"
    }
   ],
   "source": [
    "phases = network.buses_t.v_ang.values.T*180/np.pi"
   ]
  },
  {
   "cell_type": "code",
   "execution_count": 39,
   "metadata": {},
   "outputs": [],
   "source": [
    "interp = interpolate.LinearNDInterpolator(loads.T, list(zip(phases[0], phases[1], phases[2])))"
   ]
  },
  {
   "cell_type": "code",
   "execution_count": 42,
   "metadata": {},
   "outputs": [
    {
     "name": "stdout",
     "output_type": "stream",
     "text": [
      "score:  0.0005285041980393252\n"
     ]
    }
   ],
   "source": [
    "score = rmse(phase, interp(loads.T))\n",
    "print(\"score: \", score)\n",
    "for i, phase in enumerate(phases):\n",
    "    plot3d_approximation(loads, phase, interp(loads.T)[i])"
   ]
  }
 ],
 "metadata": {
  "kernelspec": {
   "display_name": "Python 3",
   "language": "python",
   "name": "python3"
  },
  "language_info": {
   "codemirror_mode": {
    "name": "ipython",
    "version": 3
   },
   "file_extension": ".py",
   "mimetype": "text/x-python",
   "name": "python",
   "nbconvert_exporter": "python",
   "pygments_lexer": "ipython3",
   "version": "3.7.3"
  }
 },
 "nbformat": 4,
 "nbformat_minor": 2
}
