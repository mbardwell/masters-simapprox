{
 "cells": [
  {
   "cell_type": "code",
   "execution_count": 5,
   "metadata": {},
   "outputs": [],
   "source": [
    "import numpy as np\n",
    "from sklearn.tree import DecisionTreeRegressor \n",
    "from n_dimensional_datasets import *\n",
    "from plotter import *"
   ]
  },
  {
   "cell_type": "code",
   "execution_count": 6,
   "metadata": {},
   "outputs": [],
   "source": [
    "start = -1\n",
    "stop = 1\n",
    "n_samples = 1000"
   ]
  },
  {
   "cell_type": "code",
   "execution_count": 7,
   "metadata": {},
   "outputs": [
    {
     "name": "stdout",
     "output_type": "stream",
     "text": [
      "error: 9.992874583364398e-19, score: 0.999999964517769\n",
      "[5.741934705483232e-19, 1.0269562977782697e-18, 3.469446951953614e-20, -2.4789198471708574e-18, 5.412337245047638e-19, -1.8561541192951837e-18, -1.8648277366750676e-19, -1.5543122344752192e-18, -1.4797191250082164e-18, 2.6020852139652105e-19] \n",
      " [0.9999999641703325, 0.9999999575621966, 0.9999999667849875, 0.9999999622994536, 0.9999999678562922, 0.9999999622120538, 0.9999999677522766, 0.9999999607847448, 0.9999999657055442, 0.9999999700498082]\n"
     ]
    },
    {
     "data": {
      "image/png": "[encoded data removed]",
      "text/plain": [
       "<Figure size 432x288 with 1 Axes>"
      ]
     },
     "metadata": {
      "needs_background": "light"
     },
     "output_type": "display_data"
    }
   ],
   "source": [
    "n_features = 1\n",
    "\n",
    "stats = {\"score\": [], \"error\": []}\n",
    "score = []\n",
    "best = None\n",
    "\n",
    "seeds = range(10)\n",
    "for seed in seeds:\n",
    "    X = stochastic_mesh(n_features, start, stop, n_samples).T\n",
    "    y = decaying_sinewave_nd(X.T)\n",
    "    tree = DecisionTreeRegressor(max_depth=50)\n",
    "    tree.fit(X,y)\n",
    "    score = tree.score(X, y)\n",
    "    stats[\"error\"].append(np.mean(tree.predict(X)-y))\n",
    "    stats[\"score\"].append(score)\n",
    "    if best is None or np.any(score > stats[\"score\"]):\n",
    "        best = tree\n",
    "print(\"error: {}, score: {}\".format(np.mean(np.abs(stats[\"error\"])), np.mean(np.abs(stats[\"score\"]))))\n",
    "print(stats[\"error\"], \"\\n\", stats[\"score\"])\n",
    "\n",
    "import matplotlib.pyplot as plt\n",
    "if X.shape[1] == 1:\n",
    "    plt.plot(X, y, 'o')\n",
    "    plt.plot(X, best.predict(X), 'o')"
   ]
  },
  {
   "cell_type": "code",
   "execution_count": 9,
   "metadata": {},
   "outputs": [
    {
     "name": "stdout",
     "output_type": "stream",
     "text": [
      "y:  2.8623201824004795e-05\n",
      "y:  -3.019166122369299e-06\n",
      "y:  3.110443300927886e-05\n",
      "y:  -5.284487027766084e-05\n",
      "y:  -9.62453069797681e-05\n",
      "y:  -5.0335470555996313e-05\n",
      "y:  -8.149446186427027e-05\n",
      "y:  -1.3916903615226898e-05\n",
      "y:  -4.1577118566757166e-05\n",
      "y:  -0.00013060175670359312\n",
      "mean error: 1.3552527156068804e-21, mean score: 0.9870973993942931\n",
      "\n",
      "\n",
      "errors: [-1.734723475976807e-21, 9.75781955236954e-22, -4.336808689942018e-22, 1.734723475976807e-21, 0.0, 1.734723475976807e-21, 2.168404344971009e-21, -2.6020852139652107e-21, 8.673617379884036e-22, -1.3010426069826053e-21]\n",
      "\n",
      "score: [0.9881182214119631, 0.9913716804095284, 0.9863017232237787, 0.9934960060608562, 0.9899963488431788, 0.9892498789264954, 0.9821653276844772, 0.9816452904611579, 0.97617411131569, 0.9924554056058069]\n"
     ]
    }
   ],
   "source": [
    "n_features = 10\n",
    "\n",
    "stats = {\"score\": [], \"error\": []}\n",
    "score = []\n",
    "best = None\n",
    "\n",
    "seeds = range(10)\n",
    "for seed in seeds:\n",
    "    X = stochastic_mesh(n_features, start, stop, n_samples, seed=seed).T\n",
    "    y = decaying_sinewave_nd(X.T)\n",
    "    tree = DecisionTreeRegressor(max_depth=50)\n",
    "    tree.fit(X,y)\n",
    "    score = tree.score(X, y)\n",
    "    stats[\"error\"].append(np.mean(tree.predict(X)-y))\n",
    "    stats[\"score\"].append(score)\n",
    "    if best is None or np.any(score > stats[\"score\"]):\n",
    "        best = tree\n",
    "print(\"mean error: {}, mean score: {}\\n\\n\".format(np.mean(np.abs(stats[\"error\"])), np.mean(np.abs(stats[\"score\"]))))\n",
    "print(\"errors: {}\\n\\nscore: {}\".format(stats[\"error\"], stats[\"score\"]))"
   ]
  }
 ],
 "metadata": {
  "kernelspec": {
   "display_name": "Python 3",
   "language": "python",
   "name": "python3"
  },
  "language_info": {
   "codemirror_mode": {
    "name": "ipython",
    "version": 3
   },
   "file_extension": ".py",
   "mimetype": "text/x-python",
   "name": "python",
   "nbconvert_exporter": "python",
   "pygments_lexer": "ipython3",
   "version": "3.7.3"
  }
 },
 "nbformat": 4,
 "nbformat_minor": 2
}
