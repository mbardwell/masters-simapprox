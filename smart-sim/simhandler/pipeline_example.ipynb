{
 "cells": [
  {
   "cell_type": "code",
   "execution_count": 2,
   "metadata": {},
   "outputs": [],
   "source": [
    "import pandas as pd\n",
    "import numpy as np\n",
    "from sklearn.pipeline import Pipeline, FeatureUnion\n",
    "from sklearn.preprocessing import StandardScaler, MinMaxScaler\n",
    "from custom_transformers import DataFrameSelector, MyLabelBinarizer\n",
    "from sklearn.decomposition import PCA"
   ]
  },
  {
   "cell_type": "code",
   "execution_count": 3,
   "metadata": {},
   "outputs": [],
   "source": [
    "df = pd.DataFrame({\"A\": [1, 2, 3], \"B\": [1, 3, 5], \"C\": [3,4,5], \"D\": [4,5,6]})"
   ]
  },
  {
   "cell_type": "code",
   "execution_count": 9,
   "metadata": {},
   "outputs": [
    {
     "data": {
      "text/plain": [
       "array([[-0.37796447, -0.75592895, -0.37796447, -0.37796447],\n",
       "       [-0.37796447, -0.20734518,  0.89632741, -0.10367259]])"
      ]
     },
     "execution_count": 9,
     "metadata": {},
     "output_type": "execute_result"
    }
   ],
   "source": [
    "pca = PCA(n_components=2)\n",
    "a = pca.fit(df)\n",
    "a.components_"
   ]
  },
  {
   "cell_type": "code",
   "execution_count": 85,
   "metadata": {},
   "outputs": [
    {
     "data": {
      "text/plain": [
       "Pipeline(memory=None,\n",
       "         steps=[('selector', DataFrameSelector(attribute_names=['A', 'B'])),\n",
       "                ('scaler', MinMaxScaler(copy=True, feature_range=(0, 1))),\n",
       "                ('pca',\n",
       "                 PCA(copy=True, iterated_power='auto', n_components=0.95,\n",
       "                     random_state=None, svd_solver='auto', tol=0.0,\n",
       "                     whiten=False))],\n",
       "         verbose=False)"
      ]
     },
     "execution_count": 85,
     "metadata": {},
     "output_type": "execute_result"
    }
   ],
   "source": [
    "num_pipeline = Pipeline([\n",
    "    (\"selector\", DataFrameSelector([\"A\", \"B\"])),\n",
    "    (\"scaler\", MinMaxScaler()),\n",
    "    (\"pca\", PCA())\n",
    "])\n",
    "num_pipeline.set_params(pca__n_components=0.95)"
   ]
  },
  {
   "cell_type": "code",
   "execution_count": 86,
   "metadata": {},
   "outputs": [
    {
     "name": "stdout",
     "output_type": "stream",
     "text": [
      "X:     A  B  C  D\n",
      "0  1  1  3  4\n",
      "1  2  3  4  5\n",
      "2  3  5  5  6  attr:  ['A', 'B']\n"
     ]
    }
   ],
   "source": [
    "processed = num_pipeline.fit_transform(df)"
   ]
  },
  {
   "cell_type": "code",
   "execution_count": 87,
   "metadata": {},
   "outputs": [
    {
     "name": "stdout",
     "output_type": "stream",
     "text": [
      "[[-0.70710678]\n",
      " [ 0.        ]\n",
      " [ 0.70710678]]\n"
     ]
    }
   ],
   "source": [
    "print(processed)"
   ]
  }
 ],
 "metadata": {
  "kernelspec": {
   "display_name": "Python 3",
   "language": "python",
   "name": "python3"
  },
  "language_info": {
   "codemirror_mode": {
    "name": "ipython",
    "version": 3
   },
   "file_extension": ".py",
   "mimetype": "text/x-python",
   "name": "python",
   "nbconvert_exporter": "python",
   "pygments_lexer": "ipython3",
   "version": "3.7.3"
  }
 },
 "nbformat": 4,
 "nbformat_minor": 2
}
