{
 "cells": [
  {
   "cell_type": "code",
   "execution_count": 5,
   "metadata": {},
   "outputs": [],
   "source": [
    "import numpy as np\n",
    "from sklearn.tree import DecisionTreeRegressor \n",
    "from n_dimensional_datasets import *\n",
    "from plotter import *"
   ]
  },
  {
   "cell_type": "code",
   "execution_count": 15,
   "metadata": {},
   "outputs": [],
   "source": [
    "start = -1\n",
    "stop = 1\n",
    "n_samples = 1000"
   ]
  },
  {
   "cell_type": "code",
   "execution_count": 13,
   "metadata": {},
   "outputs": [
    {
     "name": "stdout",
     "output_type": "stream",
     "text": [
      "error: 2.225975480329989e-18, score: 0.9999998780289736\n",
      "[-1.4113710200547302e-18, -1.6307268035919976e-18, -7.666827242513996e-18, 1.4040851814556277e-18, -4.720009105785294e-18, 2.2100377083944525e-19, 1.2202044930020862e-18, 1.00076197329102e-18, 1.4241212376031597e-18, 1.5606439751625344e-18] \n",
      " [0.9999998799269849, 0.9999998746263915, 0.9999998775237223, 0.9999998759551327, 0.9999998802840575, 0.9999998813764166, 0.9999998774885684, 0.9999998791221654, 0.9999998752216261, 0.9999998787646699]\n"
     ]
    },
    {
     "data": {
      "image/png": "[encoded data removed]",
      "text/plain": [
       "<Figure size 432x288 with 1 Axes>"
      ]
     },
     "metadata": {
      "needs_background": "light"
     },
     "output_type": "display_data"
    }
   ],
   "source": [
    "n_features = 1\n",
    "\n",
    "stats = {\"score\": [], \"error\": []}\n",
    "score = []\n",
    "best = None\n",
    "\n",
    "seeds = range(10)\n",
    "for seed in seeds:\n",
    "    X = stochastic_mesh(n_features, start, stop, n_samples).T\n",
    "    y = decaying_sinewave_nd(X.T)\n",
    "    tree = DecisionTreeRegressor(max_depth=50)\n",
    "    tree.fit(X,y)\n",
    "    score = tree.score(X, y)\n",
    "    stats[\"error\"].append(np.mean(tree.predict(X)-y))\n",
    "    stats[\"score\"].append(score)\n",
    "    if best is None or np.any(score > stats[\"score\"]):\n",
    "        best = tree\n",
    "print(\"error: {}, score: {}\".format(np.mean(np.abs(stats[\"error\"])), np.mean(np.abs(stats[\"score\"]))))\n",
    "print(stats[\"error\"], \"\\n\", stats[\"score\"])\n",
    "\n",
    "import matplotlib.pyplot as plt\n",
    "if X.shape[1] == 1:\n",
    "    plt.plot(X, y, 'o')\n",
    "    plt.plot(X, best.predict(X), 'o')"
   ]
  },
  {
   "cell_type": "code",
   "execution_count": 16,
   "metadata": {},
   "outputs": [
    {
     "name": "stdout",
     "output_type": "stream",
     "text": [
      "mean error: 2.4173553143957853e-50, mean score: 0.0\n",
      "\n",
      "\n",
      "errors: [9.579188720970429e-51, 8.210733189403225e-51, 1.7105694144590052e-52, -1.4967482376516296e-52, 8.894960955186827e-51, 5.345529420184391e-53, 1.0263416486754031e-51, 1.642146637880645e-50, -1.970575965456774e-49, -1.7105694144590052e-52]\n",
      "\n",
      "score: [0.0, 0.0, 0.0, 0.0, 0.0, 0.0, 0.0, 0.0, 0.0, 0.0]\n"
     ]
    }
   ],
   "source": [
    "n_features = 100\n",
    "\n",
    "stats = {\"score\": [], \"error\": []}\n",
    "score = []\n",
    "best = None\n",
    "\n",
    "seeds = range(10)\n",
    "for seed in seeds:\n",
    "    X = stochastic_mesh(n_features, start, stop, n_samples, seed=seed).T\n",
    "    y = decaying_sinewave_nd(X.T)\n",
    "    tree = DecisionTreeRegressor(max_depth=50)\n",
    "    tree.fit(X,y)\n",
    "    score = tree.score(X, y)\n",
    "    stats[\"error\"].append(np.mean(tree.predict(X)-y))\n",
    "    stats[\"score\"].append(score)\n",
    "    if best is None or np.any(score > stats[\"score\"]):\n",
    "        best = tree\n",
    "print(\"mean error: {}, mean score: {}\\n\\n\".format(np.mean(np.abs(stats[\"error\"])), np.mean(np.abs(stats[\"score\"]))))\n",
    "print(\"errors: {}\\n\\nscore: {}\".format(stats[\"error\"], stats[\"score\"]))"
   ]
  }
 ],
 "metadata": {
  "kernelspec": {
   "display_name": "Python 3",
   "language": "python",
   "name": "python3"
  },
  "language_info": {
   "codemirror_mode": {
    "name": "ipython",
    "version": 3
   },
   "file_extension": ".py",
   "mimetype": "text/x-python",
   "name": "python",
   "nbconvert_exporter": "python",
   "pygments_lexer": "ipython3",
   "version": "3.7.3"
  }
 },
 "nbformat": 4,
 "nbformat_minor": 2
}
