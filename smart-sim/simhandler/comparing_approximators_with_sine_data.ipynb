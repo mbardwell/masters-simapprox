{
 "cells": [
  {
   "cell_type": "code",
   "execution_count": 3,
   "metadata": {},
   "outputs": [],
   "source": [
    "import numpy as np\n",
    "import pandas as pd\n",
    "import matplotlib.pyplot as plt\n",
    "import copy\n",
    "import warnings\n",
    "warnings.filterwarnings('ignore')\n",
    "from sklearn.model_selection import cross_val_score\n",
    "from sklearn.metrics import r2_score\n",
    "from n_dimensional_datasets import *\n",
    "from plotter import *\n",
    "\n",
    "# approximation methods\n",
    "from sklearn.ensemble import RandomForestRegressor\n",
    "from scipy.interpolate import LinearNDInterpolator"
   ]
  },
  {
   "cell_type": "code",
   "execution_count": 5,
   "metadata": {},
   "outputs": [],
   "source": [
    "start = -1\n",
    "stop = 1\n",
    "n_samples = 1000\n",
    "n_test_samples = n_samples"
   ]
  },
  {
   "cell_type": "code",
   "execution_count": 6,
   "metadata": {},
   "outputs": [
    {
     "name": "stdout",
     "output_type": "stream",
     "text": [
      "rf Stats:       score     error  scorevar\n",
      "0  0.811469  0.001106  0.006667\n",
      "1  0.833462  0.002147  0.015650\n",
      "interp Stats:       score         error  scorevar\n",
      "0  1.000000 -3.093012e-18       NaN\n",
      "1  0.999545 -1.052906e-04       NaN\n"
     ]
    }
   ],
   "source": [
    "n_features = 5\n",
    "\n",
    "sim_data = {\"start\": start, \"stop\": stop, \"samples\": n_samples, \"test samples\": n_test_samples, \"seed\": []}\n",
    "stats = {\"score\": [], \"error\": [], \"scorevar\": []}\n",
    "approx_type = {\"rf\": copy.deepcopy(stats), \"interp\": copy.deepcopy(stats)}\n",
    "\n",
    "seeds = range(2)\n",
    "for seed in seeds:\n",
    "    # create data\n",
    "    X = stochastic_mesh(n_features, start, stop, n_samples, seed=seed).T\n",
    "    X_test = stochastic_mesh(n_features, start, stop, n_test_samples, seed=seed).T\n",
    "    y = decaying_sinewave_nd(X.T, 0.1)\n",
    "    y_test = decaying_sinewave_nd(X_test.T, 0.1)\n",
    "    \n",
    "    # setup approximators\n",
    "    forest = RandomForestRegressor()\n",
    "    forest.fit(X,y)\n",
    "    \n",
    "    interp = LinearNDInterpolator(X, y, fill_value=0)\n",
    "    \n",
    "    # score approximators\n",
    "    forest_xval_score = cross_val_score(forest, X, y, cv=5)\n",
    "    approx_type[\"rf\"][\"error\"].append(np.mean(forest.predict(X)-y))\n",
    "    approx_type[\"rf\"][\"score\"].append(forest_xval_score.mean())\n",
    "    approx_type[\"rf\"][\"scorevar\"].append(forest_xval_score.std())\n",
    "    \n",
    "    interp_y_hat = interp(X_test)\n",
    "    interp_score = r2_score(y, interp_y_hat)\n",
    "    approx_type[\"interp\"][\"error\"].append(np.mean(interp_y_hat - y))\n",
    "    approx_type[\"interp\"][\"score\"].append(interp_score)\n",
    "    approx_type[\"interp\"][\"scorevar\"].append(np.nan)\n",
    "    \n",
    "    sim_data[\"seed\"].append(seed)\n",
    "\n",
    "for t in approx_type:\n",
    "    print(t + \" Stats: {}\".format(pd.DataFrame(approx_type[t])))"
   ]
  }
 ],
 "metadata": {
  "kernelspec": {
   "display_name": "Python 3",
   "language": "python",
   "name": "python3"
  },
  "language_info": {
   "codemirror_mode": {
    "name": "ipython",
    "version": 3
   },
   "file_extension": ".py",
   "mimetype": "text/x-python",
   "name": "python",
   "nbconvert_exporter": "python",
   "pygments_lexer": "ipython3",
   "version": "3.7.3"
  }
 },
 "nbformat": 4,
 "nbformat_minor": 2
}
