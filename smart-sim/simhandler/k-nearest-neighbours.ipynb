{
 "cells": [
  {
   "cell_type": "code",
   "execution_count": 1,
   "metadata": {},
   "outputs": [],
   "source": [
    "import numpy as np\n",
    "from sklearn.neighbors import KNeighborsRegressor\n",
    "from n_dimensional_datasets import *\n",
    "from plotter import *"
   ]
  },
  {
   "cell_type": "code",
   "execution_count": 2,
   "metadata": {},
   "outputs": [],
   "source": [
    "start = -1\n",
    "stop = 1\n",
    "n_samples = 1000"
   ]
  },
  {
   "cell_type": "code",
   "execution_count": 4,
   "metadata": {},
   "outputs": [
    {
     "name": "stdout",
     "output_type": "stream",
     "text": [
      "error: 5.335936181587168e-05, score: 0.9999804110327275\n",
      "[1.4840506343373438e-06, 0.00010115909031461912, -3.087392955596048e-05, -3.9797920969442736e-05, 5.9791066052418374e-05, 3.734364314282683e-05, 0.0001260622571814606, 9.062770751923668e-05, 1.820101556404191e-05, 2.8252937224372797e-05] \n",
      " [0.999980252291068, 0.9999824659690869, 0.9999801153486886, 0.9999796975019994, 0.999979692213241, 0.9999793562832016, 0.9999799964239721, 0.9999798606740908, 0.9999808315281904, 0.9999818420937371]\n"
     ]
    },
    {
     "data": {
      "image/png": "[encoded data removed]",
      "text/plain": [
       "<Figure size 432x288 with 1 Axes>"
      ]
     },
     "metadata": {
      "needs_background": "light"
     },
     "output_type": "display_data"
    }
   ],
   "source": [
    "n_features = 1\n",
    "\n",
    "stats = {\"score\": [], \"error\": []}\n",
    "score = []\n",
    "best = None\n",
    "\n",
    "seeds = range(10)\n",
    "for seed in seeds:\n",
    "    X = stochastic_mesh(n_features, start, stop, n_samples).T\n",
    "    y = decaying_sinewave_nd(X.T)\n",
    "    neigh = KNeighborsRegressor(n_neighbors=2)\n",
    "    neigh.fit(X,y)\n",
    "    score = neigh.score(X, y)\n",
    "    stats[\"error\"].append(np.mean(neigh.predict(X)-y))\n",
    "    stats[\"score\"].append(score)\n",
    "    if best is None or np.any(score > stats[\"score\"]):\n",
    "        best = neigh\n",
    "print(\"mean error: {}, mean score: {}\\n\\n\".format(np.mean(np.abs(stats[\"error\"])), np.mean(np.abs(stats[\"score\"]))))\n",
    "print(\"errors: {}\\n\\nscore: {}\".format(stats[\"error\"], stats[\"score\"]))\n",
    "\n",
    "import matplotlib.pyplot as plt\n",
    "if X.shape[1] == 1:\n",
    "    plt.plot(X, y, 'o')\n",
    "    plt.plot(X, best.predict(X), 'o')"
   ]
  },
  {
   "cell_type": "code",
   "execution_count": 7,
   "metadata": {},
   "outputs": [
    {
     "name": "stdout",
     "output_type": "stream",
     "text": [
      "mean error: 5.147027875806012e-35, mean score: 0.48726764047957616\n",
      "\n",
      "\n",
      "errors: [-6.0052243803672885e-36, -7.330626474181061e-36, -1.0423617199975694e-36, -5.824697817210572e-37, 7.419731817295493e-36, 3.087043893246164e-37, -4.956446238161148e-36, -9.130341991389069e-36, -4.713884187438515e-34, 6.53846204431242e-36]\n",
      "\n",
      "score: [0.24190577627504195, 0.7303130485999505, -0.19625409907962443, -0.6075974974264406, 0.17799668833832993, 0.29919831652391005, -0.8667039772554921, 0.2495771414479684, -0.5014955194688162, -1.0016343403801877]\n"
     ]
    }
   ],
   "source": [
    "n_features = 100\n",
    "\n",
    "stats = {\"score\": [], \"error\": []}\n",
    "score = []\n",
    "best = None\n",
    "\n",
    "seeds = range(10)\n",
    "for seed in seeds:\n",
    "    X = stochastic_mesh(n_features, start, stop, n_samples, seed=seed).T\n",
    "    y = decaying_sinewave_nd(X.T)\n",
    "    neigh = KNeighborsRegressor(n_neighbors=2)\n",
    "    neigh.fit(X,y)\n",
    "    score = neigh.score(X, y)\n",
    "    stats[\"error\"].append(np.mean(neigh.predict(X)-y))\n",
    "    stats[\"score\"].append(score)\n",
    "    if best is None or np.any(score > stats[\"score\"]):\n",
    "        best = neigh\n",
    "print(\"mean error: {}, mean score: {}\\n\\n\".format(np.mean(np.abs(stats[\"error\"])), np.mean(np.abs(stats[\"score\"]))))\n",
    "print(\"errors: {}\\n\\nscore: {}\".format(stats[\"error\"], stats[\"score\"]))\n",
    "\n",
    "if X.shape[1] == 2:\n",
    "    plot3d_approximation(X.T, y.T.reshape(-1), best.predict(X).reshape(-1))"
   ]
  }
 ],
 "metadata": {
  "kernelspec": {
   "display_name": "Python 3",
   "language": "python",
   "name": "python3"
  },
  "language_info": {
   "codemirror_mode": {
    "name": "ipython",
    "version": 3
   },
   "file_extension": ".py",
   "mimetype": "text/x-python",
   "name": "python",
   "nbconvert_exporter": "python",
   "pygments_lexer": "ipython3",
   "version": "3.7.3"
  }
 },
 "nbformat": 4,
 "nbformat_minor": 2
}
